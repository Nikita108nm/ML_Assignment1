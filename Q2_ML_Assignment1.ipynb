{
  "cells": [
    {
      "cell_type": "markdown",
      "metadata": {
        "id": "view-in-github",
        "colab_type": "text"
      },
      "source": [
        "<a href=\"https://colab.research.google.com/github/Nikita108nm/ML_Assignment1/blob/main/Q2_ML_Assignment1.ipynb\" target=\"_parent\"><img src=\"https://colab.research.google.com/assets/colab-badge.svg\" alt=\"Open In Colab\"/></a>"
      ]
    },
    {
      "cell_type": "code",
      "execution_count": 3,
      "metadata": {
        "collapsed": true,
        "id": "6mQqfMLSmdB1"
      },
      "outputs": [],
      "source": [
        "#Data \n",
        "revenue = [14574.49, 7606.46, 8611.41, 9175.41, 8058.65, 8105.44, 11496.28, 9766.09, 10305.32, 14379.96, 10713.97, 15433.50]\n",
        "expenses = [12051.82, 5695.07, 12319.20, 12089.72, 8658.57, 840.20, 3285.73, 5821.12, 6976.93, 16618.61, 10054.37, 3803.96]"
      ]
    },
    {
      "cell_type": "code",
      "source": [
        "import numpy as np\n",
        "rev=np.array(revenue)\n",
        "exp=np.array(expenses)\n",
        "profit=rev-exp\n",
        "print(profit)"
      ],
      "metadata": {
        "colab": {
          "base_uri": "https://localhost:8080/"
        },
        "id": "8gpnbiovmsV_",
        "outputId": "646f7dc3-59f4-48c3-d722-278ad1224f7e"
      },
      "execution_count": 4,
      "outputs": [
        {
          "output_type": "stream",
          "name": "stdout",
          "text": [
            "[ 2522.67  1911.39 -3707.79 -2914.31  -599.92  7265.24  8210.55  3944.97\n",
            "  3328.39 -2238.65   659.6  11629.54]\n"
          ]
        }
      ]
    },
    {
      "cell_type": "code",
      "source": [
        "\n",
        "profit_after_tax=profit-0.3*rev\n",
        "print(profit_after_tax)"
      ],
      "metadata": {
        "colab": {
          "base_uri": "https://localhost:8080/"
        },
        "id": "cmsphYXKoBlz",
        "outputId": "69d47ecb-66ad-42cc-e45c-566a6d273f93"
      },
      "execution_count": 6,
      "outputs": [
        {
          "output_type": "stream",
          "name": "stdout",
          "text": [
            "[-1849.677  -370.548 -6291.213 -5666.933 -3017.515  4833.608  4761.666\n",
            "  1015.143   236.794 -6552.638 -2554.591  6999.49 ]\n"
          ]
        }
      ]
    },
    {
      "cell_type": "code",
      "source": [
        "profit_margin=profit_after_tax/revenue * 100\n",
        "print(profit_margin)"
      ],
      "metadata": {
        "colab": {
          "base_uri": "https://localhost:8080/"
        },
        "id": "4KD6OODcq2Zs",
        "outputId": "a2e00fdd-e179-4c9e-800a-be6a2c3abdcb"
      },
      "execution_count": 7,
      "outputs": [
        {
          "output_type": "stream",
          "name": "stdout",
          "text": [
            "[-12.69119537  -4.87149081 -73.05671197 -61.76217738 -37.44442307\n",
            "  59.63412227  41.41918951  10.39456937   2.29778406 -45.56784581\n",
            " -23.84355192  45.35257719]\n"
          ]
        }
      ]
    },
    {
      "cell_type": "code",
      "source": [
        "mean_year=np.mean(profit_after_tax)\n",
        "good_month=profit_after_tax[profit_after_tax>mean_year];\n",
        "print(good_month)\n",
        "bad_month=profit_after_tax[profit_after_tax<mean_year];\n",
        "print(bad_month)"
      ],
      "metadata": {
        "colab": {
          "base_uri": "https://localhost:8080/"
        },
        "id": "ZOT4o8OjuSN0",
        "outputId": "2b75f61d-5123-4554-e293-515d38e66c03"
      },
      "execution_count": 9,
      "outputs": [
        {
          "output_type": "stream",
          "name": "stdout",
          "text": [
            "[-370.548 4833.608 4761.666 1015.143  236.794 6999.49 ]\n",
            "[-1849.677 -6291.213 -5666.933 -3017.515 -6552.638 -2554.591]\n"
          ]
        }
      ]
    },
    {
      "cell_type": "code",
      "source": [
        "best_month=max(profit_after_tax)\n",
        "print(best_month)\n",
        "worst_month=min(profit_after_tax)\n",
        "print(worst_month)\n"
      ],
      "metadata": {
        "colab": {
          "base_uri": "https://localhost:8080/"
        },
        "id": "Kgqi95Aev6sX",
        "outputId": "56496ad1-2d6e-43c4-ee28-adc41d1fde02"
      },
      "execution_count": 10,
      "outputs": [
        {
          "output_type": "stream",
          "name": "stdout",
          "text": [
            "6999.490000000001\n",
            "-6552.638000000001\n"
          ]
        }
      ]
    }
  ],
  "metadata": {
    "kernelspec": {
      "display_name": "Python [conda root]",
      "language": "python",
      "name": "conda-root-py"
    },
    "language_info": {
      "codemirror_mode": {
        "name": "ipython",
        "version": 3
      },
      "file_extension": ".py",
      "mimetype": "text/x-python",
      "name": "python",
      "nbconvert_exporter": "python",
      "pygments_lexer": "ipython3",
      "version": "3.5.2"
    },
    "colab": {
      "name": "Q2_ML_Assignment1.ipynb",
      "provenance": [],
      "include_colab_link": true
    }
  },
  "nbformat": 4,
  "nbformat_minor": 0
}